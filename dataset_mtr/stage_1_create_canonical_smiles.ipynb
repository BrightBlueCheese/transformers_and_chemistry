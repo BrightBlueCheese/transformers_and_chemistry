{
 "cells": [
  {
   "cell_type": "code",
   "execution_count": 1,
   "id": "1692dc73-7a3c-46ce-9f60-bcee72d98d40",
   "metadata": {},
   "outputs": [],
   "source": [
    "import pandas as pd\n",
    "import numpy as np\n",
    "from sklearn.model_selection import train_test_split\n"
   ]
  },
  {
   "cell_type": "markdown",
   "id": "6bc663c4-1d5b-48ba-ac38-dfcba6286f50",
   "metadata": {},
   "source": [
    "download the original file shared by IBM\n",
    "- canonical_smiles_link_ibm.txt\n",
    "- https://ibm.ent.box.com/v/MoLFormer-data/file/1095723242548"
   ]
  },
  {
   "cell_type": "code",
   "execution_count": 3,
   "id": "53d6ecec-69a4-4342-a0b1-a6e1d2e4ef06",
   "metadata": {},
   "outputs": [
    {
     "name": "stdout",
     "output_type": "stream",
     "text": [
      "Archive:  /home/ylee/ChemLlama/dataset_mtr/download.zip\n",
      "replace pubchem-canonical/CID-SMILES-CANONICAL.smi? [y]es, [n]o, [A]ll, [N]one, [r]ename: ^C\n"
     ]
    }
   ],
   "source": [
    "!unzip /home/ylee/ChemLlama/dataset_mtr/download.zip"
   ]
  },
  {
   "cell_type": "code",
   "execution_count": 4,
   "id": "c3365377-3f52-4798-b248-c3078a800c2f",
   "metadata": {},
   "outputs": [],
   "source": [
    "df_canonized_smiles = pd.read_csv('./pubchem-canonical/CID-SMILES-CANONICAL.smi', delimiter=' ', header=None, names=['SMILES'])"
   ]
  },
  {
   "cell_type": "code",
   "execution_count": 5,
   "id": "e0b88d70-0e42-4815-9760-7e0057785c8c",
   "metadata": {},
   "outputs": [
    {
     "data": {
      "text/html": [
       "<div>\n",
       "<style scoped>\n",
       "    .dataframe tbody tr th:only-of-type {\n",
       "        vertical-align: middle;\n",
       "    }\n",
       "\n",
       "    .dataframe tbody tr th {\n",
       "        vertical-align: top;\n",
       "    }\n",
       "\n",
       "    .dataframe thead th {\n",
       "        text-align: right;\n",
       "    }\n",
       "</style>\n",
       "<table border=\"1\" class=\"dataframe\">\n",
       "  <thead>\n",
       "    <tr style=\"text-align: right;\">\n",
       "      <th></th>\n",
       "      <th>SMILES</th>\n",
       "    </tr>\n",
       "  </thead>\n",
       "  <tbody>\n",
       "    <tr>\n",
       "      <th>1</th>\n",
       "      <td>CC(=O)OC(CC(=O)[O-])C[N+](C)(C)C</td>\n",
       "    </tr>\n",
       "    <tr>\n",
       "      <th>2</th>\n",
       "      <td>CC(=O)OC(CC(=O)O)C[N+](C)(C)C</td>\n",
       "    </tr>\n",
       "    <tr>\n",
       "      <th>3</th>\n",
       "      <td>O=C(O)C1=CC=CC(O)C1O</td>\n",
       "    </tr>\n",
       "    <tr>\n",
       "      <th>4</th>\n",
       "      <td>CC(O)CN</td>\n",
       "    </tr>\n",
       "    <tr>\n",
       "      <th>5</th>\n",
       "      <td>NCC(=O)COP(=O)(O)O</td>\n",
       "    </tr>\n",
       "    <tr>\n",
       "      <th>...</th>\n",
       "      <td>...</td>\n",
       "    </tr>\n",
       "    <tr>\n",
       "      <th>154733624</th>\n",
       "      <td>Fc1ccc(P(c2ccc(F)cc2)c2ccc(F)cc2)cc1.Fc1ccc(P(...</td>\n",
       "    </tr>\n",
       "    <tr>\n",
       "      <th>154733625</th>\n",
       "      <td>Cc1ccc(P(c2ccc(C)cc2)c2cc(C)ccn2)cc1.Cc1ccc(P(...</td>\n",
       "    </tr>\n",
       "    <tr>\n",
       "      <th>154733626</th>\n",
       "      <td>Cc1ccnc(P(c2ccco2)c2ccco2)c1.[Cu]I.[Cu]I.c1ccc...</td>\n",
       "    </tr>\n",
       "    <tr>\n",
       "      <th>154733627</th>\n",
       "      <td>[Cu]I.[Cu]I.c1ccc(P(c2ccccc2)c2ccccc2)cc1.c1cc...</td>\n",
       "    </tr>\n",
       "    <tr>\n",
       "      <th>154733628</th>\n",
       "      <td>CCCC[Sn](CCCC)(CCCC)c1nc2ccccc2nc1C</td>\n",
       "    </tr>\n",
       "  </tbody>\n",
       "</table>\n",
       "<p>111378206 rows × 1 columns</p>\n",
       "</div>"
      ],
      "text/plain": [
       "                                                      SMILES\n",
       "1                           CC(=O)OC(CC(=O)[O-])C[N+](C)(C)C\n",
       "2                              CC(=O)OC(CC(=O)O)C[N+](C)(C)C\n",
       "3                                       O=C(O)C1=CC=CC(O)C1O\n",
       "4                                                    CC(O)CN\n",
       "5                                         NCC(=O)COP(=O)(O)O\n",
       "...                                                      ...\n",
       "154733624  Fc1ccc(P(c2ccc(F)cc2)c2ccc(F)cc2)cc1.Fc1ccc(P(...\n",
       "154733625  Cc1ccc(P(c2ccc(C)cc2)c2cc(C)ccn2)cc1.Cc1ccc(P(...\n",
       "154733626  Cc1ccnc(P(c2ccco2)c2ccco2)c1.[Cu]I.[Cu]I.c1ccc...\n",
       "154733627  [Cu]I.[Cu]I.c1ccc(P(c2ccccc2)c2ccccc2)cc1.c1cc...\n",
       "154733628                CCCC[Sn](CCCC)(CCCC)c1nc2ccccc2nc1C\n",
       "\n",
       "[111378206 rows x 1 columns]"
      ]
     },
     "execution_count": 5,
     "metadata": {},
     "output_type": "execute_result"
    }
   ],
   "source": [
    "df_canonized_smiles"
   ]
  },
  {
   "cell_type": "code",
   "execution_count": 6,
   "id": "1d734631-e70f-4b16-9b69-2312688b087b",
   "metadata": {},
   "outputs": [
    {
     "data": {
      "text/html": [
       "<div>\n",
       "<style scoped>\n",
       "    .dataframe tbody tr th:only-of-type {\n",
       "        vertical-align: middle;\n",
       "    }\n",
       "\n",
       "    .dataframe tbody tr th {\n",
       "        vertical-align: top;\n",
       "    }\n",
       "\n",
       "    .dataframe thead th {\n",
       "        text-align: right;\n",
       "    }\n",
       "</style>\n",
       "<table border=\"1\" class=\"dataframe\">\n",
       "  <thead>\n",
       "    <tr style=\"text-align: right;\">\n",
       "      <th></th>\n",
       "      <th>SMILES</th>\n",
       "      <th>text_length</th>\n",
       "    </tr>\n",
       "  </thead>\n",
       "  <tbody>\n",
       "    <tr>\n",
       "      <th>1</th>\n",
       "      <td>CC(=O)OC(CC(=O)[O-])C[N+](C)(C)C</td>\n",
       "      <td>32</td>\n",
       "    </tr>\n",
       "    <tr>\n",
       "      <th>2</th>\n",
       "      <td>CC(=O)OC(CC(=O)O)C[N+](C)(C)C</td>\n",
       "      <td>29</td>\n",
       "    </tr>\n",
       "    <tr>\n",
       "      <th>3</th>\n",
       "      <td>O=C(O)C1=CC=CC(O)C1O</td>\n",
       "      <td>20</td>\n",
       "    </tr>\n",
       "    <tr>\n",
       "      <th>4</th>\n",
       "      <td>CC(O)CN</td>\n",
       "      <td>7</td>\n",
       "    </tr>\n",
       "    <tr>\n",
       "      <th>5</th>\n",
       "      <td>NCC(=O)COP(=O)(O)O</td>\n",
       "      <td>18</td>\n",
       "    </tr>\n",
       "    <tr>\n",
       "      <th>...</th>\n",
       "      <td>...</td>\n",
       "      <td>...</td>\n",
       "    </tr>\n",
       "    <tr>\n",
       "      <th>154733624</th>\n",
       "      <td>Fc1ccc(P(c2ccc(F)cc2)c2ccc(F)cc2)cc1.Fc1ccc(P(...</td>\n",
       "      <td>113</td>\n",
       "    </tr>\n",
       "    <tr>\n",
       "      <th>154733625</th>\n",
       "      <td>Cc1ccc(P(c2ccc(C)cc2)c2cc(C)ccn2)cc1.Cc1ccc(P(...</td>\n",
       "      <td>122</td>\n",
       "    </tr>\n",
       "    <tr>\n",
       "      <th>154733626</th>\n",
       "      <td>Cc1ccnc(P(c2ccco2)c2ccco2)c1.[Cu]I.[Cu]I.c1ccc...</td>\n",
       "      <td>100</td>\n",
       "    </tr>\n",
       "    <tr>\n",
       "      <th>154733627</th>\n",
       "      <td>[Cu]I.[Cu]I.c1ccc(P(c2ccccc2)c2ccccc2)cc1.c1cc...</td>\n",
       "      <td>99</td>\n",
       "    </tr>\n",
       "    <tr>\n",
       "      <th>154733628</th>\n",
       "      <td>CCCC[Sn](CCCC)(CCCC)c1nc2ccccc2nc1C</td>\n",
       "      <td>35</td>\n",
       "    </tr>\n",
       "  </tbody>\n",
       "</table>\n",
       "<p>111378206 rows × 2 columns</p>\n",
       "</div>"
      ],
      "text/plain": [
       "                                                      SMILES  text_length\n",
       "1                           CC(=O)OC(CC(=O)[O-])C[N+](C)(C)C           32\n",
       "2                              CC(=O)OC(CC(=O)O)C[N+](C)(C)C           29\n",
       "3                                       O=C(O)C1=CC=CC(O)C1O           20\n",
       "4                                                    CC(O)CN            7\n",
       "5                                         NCC(=O)COP(=O)(O)O           18\n",
       "...                                                      ...          ...\n",
       "154733624  Fc1ccc(P(c2ccc(F)cc2)c2ccc(F)cc2)cc1.Fc1ccc(P(...          113\n",
       "154733625  Cc1ccc(P(c2ccc(C)cc2)c2cc(C)ccn2)cc1.Cc1ccc(P(...          122\n",
       "154733626  Cc1ccnc(P(c2ccco2)c2ccco2)c1.[Cu]I.[Cu]I.c1ccc...          100\n",
       "154733627  [Cu]I.[Cu]I.c1ccc(P(c2ccccc2)c2ccccc2)cc1.c1cc...           99\n",
       "154733628                CCCC[Sn](CCCC)(CCCC)c1nc2ccccc2nc1C           35\n",
       "\n",
       "[111378206 rows x 2 columns]"
      ]
     },
     "execution_count": 6,
     "metadata": {},
     "output_type": "execute_result"
    }
   ],
   "source": [
    "df_canonized_smiles['text_length'] = df_canonized_smiles['SMILES'].apply(lambda x:len(x))\n",
    "df_canonized_smiles"
   ]
  },
  {
   "cell_type": "code",
   "execution_count": 7,
   "id": "86306707-6ff9-48ae-a274-576ab813daae",
   "metadata": {},
   "outputs": [
    {
     "data": {
      "text/html": [
       "<div>\n",
       "<style scoped>\n",
       "    .dataframe tbody tr th:only-of-type {\n",
       "        vertical-align: middle;\n",
       "    }\n",
       "\n",
       "    .dataframe tbody tr th {\n",
       "        vertical-align: top;\n",
       "    }\n",
       "\n",
       "    .dataframe thead th {\n",
       "        text-align: right;\n",
       "    }\n",
       "</style>\n",
       "<table border=\"1\" class=\"dataframe\">\n",
       "  <thead>\n",
       "    <tr style=\"text-align: right;\">\n",
       "      <th></th>\n",
       "      <th>text_length</th>\n",
       "    </tr>\n",
       "  </thead>\n",
       "  <tbody>\n",
       "    <tr>\n",
       "      <th>count</th>\n",
       "      <td>1.113782e+08</td>\n",
       "    </tr>\n",
       "    <tr>\n",
       "      <th>mean</th>\n",
       "      <td>4.431726e+01</td>\n",
       "    </tr>\n",
       "    <tr>\n",
       "      <th>std</th>\n",
       "      <td>2.286407e+01</td>\n",
       "    </tr>\n",
       "    <tr>\n",
       "      <th>min</th>\n",
       "      <td>1.000000e+00</td>\n",
       "    </tr>\n",
       "    <tr>\n",
       "      <th>25%</th>\n",
       "      <td>3.100000e+01</td>\n",
       "    </tr>\n",
       "    <tr>\n",
       "      <th>50%</th>\n",
       "      <td>4.000000e+01</td>\n",
       "    </tr>\n",
       "    <tr>\n",
       "      <th>75%</th>\n",
       "      <td>5.200000e+01</td>\n",
       "    </tr>\n",
       "    <tr>\n",
       "      <th>max</th>\n",
       "      <td>3.531000e+03</td>\n",
       "    </tr>\n",
       "  </tbody>\n",
       "</table>\n",
       "</div>"
      ],
      "text/plain": [
       "        text_length\n",
       "count  1.113782e+08\n",
       "mean   4.431726e+01\n",
       "std    2.286407e+01\n",
       "min    1.000000e+00\n",
       "25%    3.100000e+01\n",
       "50%    4.000000e+01\n",
       "75%    5.200000e+01\n",
       "max    3.531000e+03"
      ]
     },
     "execution_count": 7,
     "metadata": {},
     "output_type": "execute_result"
    }
   ],
   "source": [
    "df_canonized_smiles[['text_length']].describe()"
   ]
  },
  {
   "cell_type": "code",
   "execution_count": 8,
   "id": "16831c8e-70ab-46a0-8e75-7ea1d441d830",
   "metadata": {},
   "outputs": [
    {
     "data": {
      "text/html": [
       "<div>\n",
       "<style scoped>\n",
       "    .dataframe tbody tr th:only-of-type {\n",
       "        vertical-align: middle;\n",
       "    }\n",
       "\n",
       "    .dataframe tbody tr th {\n",
       "        vertical-align: top;\n",
       "    }\n",
       "\n",
       "    .dataframe thead th {\n",
       "        text-align: right;\n",
       "    }\n",
       "</style>\n",
       "<table border=\"1\" class=\"dataframe\">\n",
       "  <thead>\n",
       "    <tr style=\"text-align: right;\">\n",
       "      <th></th>\n",
       "      <th>SMILES</th>\n",
       "    </tr>\n",
       "  </thead>\n",
       "  <tbody>\n",
       "    <tr>\n",
       "      <th>1</th>\n",
       "      <td>CC(=O)OC(CC(=O)[O-])C[N+](C)(C)C</td>\n",
       "    </tr>\n",
       "    <tr>\n",
       "      <th>2</th>\n",
       "      <td>CC(=O)OC(CC(=O)O)C[N+](C)(C)C</td>\n",
       "    </tr>\n",
       "    <tr>\n",
       "      <th>3</th>\n",
       "      <td>O=C(O)C1=CC=CC(O)C1O</td>\n",
       "    </tr>\n",
       "    <tr>\n",
       "      <th>4</th>\n",
       "      <td>CC(O)CN</td>\n",
       "    </tr>\n",
       "    <tr>\n",
       "      <th>5</th>\n",
       "      <td>NCC(=O)COP(=O)(O)O</td>\n",
       "    </tr>\n",
       "    <tr>\n",
       "      <th>...</th>\n",
       "      <td>...</td>\n",
       "    </tr>\n",
       "    <tr>\n",
       "      <th>154733624</th>\n",
       "      <td>Fc1ccc(P(c2ccc(F)cc2)c2ccc(F)cc2)cc1.Fc1ccc(P(...</td>\n",
       "    </tr>\n",
       "    <tr>\n",
       "      <th>154733625</th>\n",
       "      <td>Cc1ccc(P(c2ccc(C)cc2)c2cc(C)ccn2)cc1.Cc1ccc(P(...</td>\n",
       "    </tr>\n",
       "    <tr>\n",
       "      <th>154733626</th>\n",
       "      <td>Cc1ccnc(P(c2ccco2)c2ccco2)c1.[Cu]I.[Cu]I.c1ccc...</td>\n",
       "    </tr>\n",
       "    <tr>\n",
       "      <th>154733627</th>\n",
       "      <td>[Cu]I.[Cu]I.c1ccc(P(c2ccccc2)c2ccccc2)cc1.c1cc...</td>\n",
       "    </tr>\n",
       "    <tr>\n",
       "      <th>154733628</th>\n",
       "      <td>CCCC[Sn](CCCC)(CCCC)c1nc2ccccc2nc1C</td>\n",
       "    </tr>\n",
       "  </tbody>\n",
       "</table>\n",
       "<p>111378206 rows × 1 columns</p>\n",
       "</div>"
      ],
      "text/plain": [
       "                                                      SMILES\n",
       "1                           CC(=O)OC(CC(=O)[O-])C[N+](C)(C)C\n",
       "2                              CC(=O)OC(CC(=O)O)C[N+](C)(C)C\n",
       "3                                       O=C(O)C1=CC=CC(O)C1O\n",
       "4                                                    CC(O)CN\n",
       "5                                         NCC(=O)COP(=O)(O)O\n",
       "...                                                      ...\n",
       "154733624  Fc1ccc(P(c2ccc(F)cc2)c2ccc(F)cc2)cc1.Fc1ccc(P(...\n",
       "154733625  Cc1ccc(P(c2ccc(C)cc2)c2cc(C)ccn2)cc1.Cc1ccc(P(...\n",
       "154733626  Cc1ccnc(P(c2ccco2)c2ccco2)c1.[Cu]I.[Cu]I.c1ccc...\n",
       "154733627  [Cu]I.[Cu]I.c1ccc(P(c2ccccc2)c2ccccc2)cc1.c1cc...\n",
       "154733628                CCCC[Sn](CCCC)(CCCC)c1nc2ccccc2nc1C\n",
       "\n",
       "[111378206 rows x 1 columns]"
      ]
     },
     "execution_count": 8,
     "metadata": {},
     "output_type": "execute_result"
    }
   ],
   "source": [
    "try:\n",
    "    df_canonized_smiles.drop('text_length', inplace=True, axis=1)\n",
    "except:\n",
    "    pass\n",
    "df_canonized_smiles"
   ]
  },
  {
   "cell_type": "code",
   "execution_count": 9,
   "id": "0cbfbdbe-4d18-47b5-8d2b-a517fa02a65b",
   "metadata": {},
   "outputs": [
    {
     "data": {
      "text/plain": [
       "array(['CC(=O)OC(CC(=O)[O-])C[N+](C)(C)C',\n",
       "       'CC(=O)OC(CC(=O)O)C[N+](C)(C)C', 'O=C(O)C1=CC=CC(O)C1O', ...,\n",
       "       'Cc1ccnc(P(c2ccco2)c2ccco2)c1.[Cu]I.[Cu]I.c1ccc(P(c2ccccc2)c2ccccc2)cc1.c1ccc(P(c2ccccc2)c2ccccc2)cc1',\n",
       "       '[Cu]I.[Cu]I.c1ccc(P(c2ccccc2)c2ccccc2)cc1.c1ccc(P(c2ccccc2)c2ccccc2)cc1.c1ccc(P(c2ccco2)c2ccco2)nc1',\n",
       "       'CCCC[Sn](CCCC)(CCCC)c1nc2ccccc2nc1C'], dtype=object)"
      ]
     },
     "execution_count": 9,
     "metadata": {},
     "output_type": "execute_result"
    }
   ],
   "source": [
    "array_unique_canoniozed_smiles = df_canonized_smiles['SMILES'].unique()\n",
    "array_unique_canoniozed_smiles"
   ]
  },
  {
   "cell_type": "code",
   "execution_count": 10,
   "id": "61d8c54e-ff8a-4093-8e01-e00c0ad3ca89",
   "metadata": {},
   "outputs": [
    {
     "data": {
      "text/plain": [
       "((95889160,), (111378206, 1))"
      ]
     },
     "execution_count": 10,
     "metadata": {},
     "output_type": "execute_result"
    }
   ],
   "source": [
    "array_unique_canoniozed_smiles.shape, df_canonized_smiles.shape"
   ]
  },
  {
   "cell_type": "code",
   "execution_count": 11,
   "id": "5b741e75-316e-4ef4-992e-61b0c6673dd2",
   "metadata": {},
   "outputs": [
    {
     "data": {
      "text/plain": [
       "0.8609328830453599"
      ]
     },
     "execution_count": 11,
     "metadata": {},
     "output_type": "execute_result"
    }
   ],
   "source": [
    "array_unique_canoniozed_smiles.shape[0] / df_canonized_smiles.shape[0]"
   ]
  },
  {
   "cell_type": "markdown",
   "id": "4fbe10d8-e647-4e27-a7a1-abe990a71975",
   "metadata": {},
   "source": [
    "# drop Duplicate"
   ]
  },
  {
   "cell_type": "code",
   "execution_count": 12,
   "id": "a3b25e17-009d-4900-b285-b5f3eebb2bdf",
   "metadata": {},
   "outputs": [
    {
     "data": {
      "text/html": [
       "<div>\n",
       "<style scoped>\n",
       "    .dataframe tbody tr th:only-of-type {\n",
       "        vertical-align: middle;\n",
       "    }\n",
       "\n",
       "    .dataframe tbody tr th {\n",
       "        vertical-align: top;\n",
       "    }\n",
       "\n",
       "    .dataframe thead th {\n",
       "        text-align: right;\n",
       "    }\n",
       "</style>\n",
       "<table border=\"1\" class=\"dataframe\">\n",
       "  <thead>\n",
       "    <tr style=\"text-align: right;\">\n",
       "      <th></th>\n",
       "      <th>SMILES</th>\n",
       "    </tr>\n",
       "  </thead>\n",
       "  <tbody>\n",
       "    <tr>\n",
       "      <th>1</th>\n",
       "      <td>CC(=O)OC(CC(=O)[O-])C[N+](C)(C)C</td>\n",
       "    </tr>\n",
       "    <tr>\n",
       "      <th>2</th>\n",
       "      <td>CC(=O)OC(CC(=O)O)C[N+](C)(C)C</td>\n",
       "    </tr>\n",
       "    <tr>\n",
       "      <th>3</th>\n",
       "      <td>O=C(O)C1=CC=CC(O)C1O</td>\n",
       "    </tr>\n",
       "    <tr>\n",
       "      <th>4</th>\n",
       "      <td>CC(O)CN</td>\n",
       "    </tr>\n",
       "    <tr>\n",
       "      <th>5</th>\n",
       "      <td>NCC(=O)COP(=O)(O)O</td>\n",
       "    </tr>\n",
       "    <tr>\n",
       "      <th>...</th>\n",
       "      <td>...</td>\n",
       "    </tr>\n",
       "    <tr>\n",
       "      <th>154733624</th>\n",
       "      <td>Fc1ccc(P(c2ccc(F)cc2)c2ccc(F)cc2)cc1.Fc1ccc(P(...</td>\n",
       "    </tr>\n",
       "    <tr>\n",
       "      <th>154733625</th>\n",
       "      <td>Cc1ccc(P(c2ccc(C)cc2)c2cc(C)ccn2)cc1.Cc1ccc(P(...</td>\n",
       "    </tr>\n",
       "    <tr>\n",
       "      <th>154733626</th>\n",
       "      <td>Cc1ccnc(P(c2ccco2)c2ccco2)c1.[Cu]I.[Cu]I.c1ccc...</td>\n",
       "    </tr>\n",
       "    <tr>\n",
       "      <th>154733627</th>\n",
       "      <td>[Cu]I.[Cu]I.c1ccc(P(c2ccccc2)c2ccccc2)cc1.c1cc...</td>\n",
       "    </tr>\n",
       "    <tr>\n",
       "      <th>154733628</th>\n",
       "      <td>CCCC[Sn](CCCC)(CCCC)c1nc2ccccc2nc1C</td>\n",
       "    </tr>\n",
       "  </tbody>\n",
       "</table>\n",
       "<p>111378206 rows × 1 columns</p>\n",
       "</div>"
      ],
      "text/plain": [
       "                                                      SMILES\n",
       "1                           CC(=O)OC(CC(=O)[O-])C[N+](C)(C)C\n",
       "2                              CC(=O)OC(CC(=O)O)C[N+](C)(C)C\n",
       "3                                       O=C(O)C1=CC=CC(O)C1O\n",
       "4                                                    CC(O)CN\n",
       "5                                         NCC(=O)COP(=O)(O)O\n",
       "...                                                      ...\n",
       "154733624  Fc1ccc(P(c2ccc(F)cc2)c2ccc(F)cc2)cc1.Fc1ccc(P(...\n",
       "154733625  Cc1ccc(P(c2ccc(C)cc2)c2cc(C)ccn2)cc1.Cc1ccc(P(...\n",
       "154733626  Cc1ccnc(P(c2ccco2)c2ccco2)c1.[Cu]I.[Cu]I.c1ccc...\n",
       "154733627  [Cu]I.[Cu]I.c1ccc(P(c2ccccc2)c2ccccc2)cc1.c1cc...\n",
       "154733628                CCCC[Sn](CCCC)(CCCC)c1nc2ccccc2nc1C\n",
       "\n",
       "[111378206 rows x 1 columns]"
      ]
     },
     "execution_count": 12,
     "metadata": {},
     "output_type": "execute_result"
    }
   ],
   "source": [
    "df_canonized_smiles"
   ]
  },
  {
   "cell_type": "code",
   "execution_count": null,
   "id": "ae433c48-be42-4324-9123-2ac416205bd5",
   "metadata": {},
   "outputs": [],
   "source": [
    "df_canonized_smiles.drop_duplicates('SMILES', inplace=True, keep='first')\n",
    "\n"
   ]
  },
  {
   "cell_type": "code",
   "execution_count": 16,
   "id": "a7c93240-4cba-4247-a064-315cd34ab0c8",
   "metadata": {},
   "outputs": [
    {
     "data": {
      "text/html": [
       "<div>\n",
       "<style scoped>\n",
       "    .dataframe tbody tr th:only-of-type {\n",
       "        vertical-align: middle;\n",
       "    }\n",
       "\n",
       "    .dataframe tbody tr th {\n",
       "        vertical-align: top;\n",
       "    }\n",
       "\n",
       "    .dataframe thead th {\n",
       "        text-align: right;\n",
       "    }\n",
       "</style>\n",
       "<table border=\"1\" class=\"dataframe\">\n",
       "  <thead>\n",
       "    <tr style=\"text-align: right;\">\n",
       "      <th></th>\n",
       "      <th>SMILES</th>\n",
       "    </tr>\n",
       "  </thead>\n",
       "  <tbody>\n",
       "    <tr>\n",
       "      <th>1</th>\n",
       "      <td>CC(=O)OC(CC(=O)[O-])C[N+](C)(C)C</td>\n",
       "    </tr>\n",
       "    <tr>\n",
       "      <th>2</th>\n",
       "      <td>CC(=O)OC(CC(=O)O)C[N+](C)(C)C</td>\n",
       "    </tr>\n",
       "    <tr>\n",
       "      <th>3</th>\n",
       "      <td>O=C(O)C1=CC=CC(O)C1O</td>\n",
       "    </tr>\n",
       "    <tr>\n",
       "      <th>4</th>\n",
       "      <td>CC(O)CN</td>\n",
       "    </tr>\n",
       "    <tr>\n",
       "      <th>5</th>\n",
       "      <td>NCC(=O)COP(=O)(O)O</td>\n",
       "    </tr>\n",
       "    <tr>\n",
       "      <th>...</th>\n",
       "      <td>...</td>\n",
       "    </tr>\n",
       "    <tr>\n",
       "      <th>154733624</th>\n",
       "      <td>Fc1ccc(P(c2ccc(F)cc2)c2ccc(F)cc2)cc1.Fc1ccc(P(...</td>\n",
       "    </tr>\n",
       "    <tr>\n",
       "      <th>154733625</th>\n",
       "      <td>Cc1ccc(P(c2ccc(C)cc2)c2cc(C)ccn2)cc1.Cc1ccc(P(...</td>\n",
       "    </tr>\n",
       "    <tr>\n",
       "      <th>154733626</th>\n",
       "      <td>Cc1ccnc(P(c2ccco2)c2ccco2)c1.[Cu]I.[Cu]I.c1ccc...</td>\n",
       "    </tr>\n",
       "    <tr>\n",
       "      <th>154733627</th>\n",
       "      <td>[Cu]I.[Cu]I.c1ccc(P(c2ccccc2)c2ccccc2)cc1.c1cc...</td>\n",
       "    </tr>\n",
       "    <tr>\n",
       "      <th>154733628</th>\n",
       "      <td>CCCC[Sn](CCCC)(CCCC)c1nc2ccccc2nc1C</td>\n",
       "    </tr>\n",
       "  </tbody>\n",
       "</table>\n",
       "<p>95889160 rows × 1 columns</p>\n",
       "</div>"
      ],
      "text/plain": [
       "                                                      SMILES\n",
       "1                           CC(=O)OC(CC(=O)[O-])C[N+](C)(C)C\n",
       "2                              CC(=O)OC(CC(=O)O)C[N+](C)(C)C\n",
       "3                                       O=C(O)C1=CC=CC(O)C1O\n",
       "4                                                    CC(O)CN\n",
       "5                                         NCC(=O)COP(=O)(O)O\n",
       "...                                                      ...\n",
       "154733624  Fc1ccc(P(c2ccc(F)cc2)c2ccc(F)cc2)cc1.Fc1ccc(P(...\n",
       "154733625  Cc1ccc(P(c2ccc(C)cc2)c2cc(C)ccn2)cc1.Cc1ccc(P(...\n",
       "154733626  Cc1ccnc(P(c2ccco2)c2ccco2)c1.[Cu]I.[Cu]I.c1ccc...\n",
       "154733627  [Cu]I.[Cu]I.c1ccc(P(c2ccccc2)c2ccccc2)cc1.c1cc...\n",
       "154733628                CCCC[Sn](CCCC)(CCCC)c1nc2ccccc2nc1C\n",
       "\n",
       "[95889160 rows x 1 columns]"
      ]
     },
     "execution_count": 16,
     "metadata": {},
     "output_type": "execute_result"
    }
   ],
   "source": [
    "df_canonized_smiles"
   ]
  },
  {
   "cell_type": "markdown",
   "id": "a819452b-e021-45ef-8217-8b3c707c7889",
   "metadata": {},
   "source": [
    "# Sampling 33M rows\n",
    "- will use __30M__ to the max, but keep 3M more at this point\n",
    "- Since mostlikely we will get some __None__ value from Descriptors"
   ]
  },
  {
   "cell_type": "code",
   "execution_count": 17,
   "id": "8f717757-74c0-4c53-aa3c-50aaada794c5",
   "metadata": {},
   "outputs": [
    {
     "data": {
      "text/html": [
       "<div>\n",
       "<style scoped>\n",
       "    .dataframe tbody tr th:only-of-type {\n",
       "        vertical-align: middle;\n",
       "    }\n",
       "\n",
       "    .dataframe tbody tr th {\n",
       "        vertical-align: top;\n",
       "    }\n",
       "\n",
       "    .dataframe thead th {\n",
       "        text-align: right;\n",
       "    }\n",
       "</style>\n",
       "<table border=\"1\" class=\"dataframe\">\n",
       "  <thead>\n",
       "    <tr style=\"text-align: right;\">\n",
       "      <th></th>\n",
       "      <th>SMILES</th>\n",
       "    </tr>\n",
       "  </thead>\n",
       "  <tbody>\n",
       "    <tr>\n",
       "      <th>23097826</th>\n",
       "      <td>Cc1cc2nn(-c3cccc4ccccc34)nc2cc1NC(=S)NC(=O)c1c...</td>\n",
       "    </tr>\n",
       "    <tr>\n",
       "      <th>143474201</th>\n",
       "      <td>O=CN1CCCC1C(F)F</td>\n",
       "    </tr>\n",
       "    <tr>\n",
       "      <th>127928730</th>\n",
       "      <td>Cc1nc(C2CCCN(C(=O)NC3CCC(N4CCC(C)CC4)CC3)C2)n[...</td>\n",
       "    </tr>\n",
       "    <tr>\n",
       "      <th>60059763</th>\n",
       "      <td>CC(=O)OCC(C)c1ccccc1[N+](=O)[O-]</td>\n",
       "    </tr>\n",
       "    <tr>\n",
       "      <th>26865753</th>\n",
       "      <td>Cc1ccc(S(=O)(=O)N2CCN(C(=O)c3ccc(N(C)C)c([N+](...</td>\n",
       "    </tr>\n",
       "    <tr>\n",
       "      <th>...</th>\n",
       "      <td>...</td>\n",
       "    </tr>\n",
       "    <tr>\n",
       "      <th>55493150</th>\n",
       "      <td>CC(C)NC(=O)Nc1ccccc1C(=O)OCC(=O)Nc1ccccc1SC(F)F</td>\n",
       "    </tr>\n",
       "    <tr>\n",
       "      <th>121974228</th>\n",
       "      <td>O=C(O)C1CCOC1C1CCN(C(=O)c2coc3ccccc23)CC1</td>\n",
       "    </tr>\n",
       "    <tr>\n",
       "      <th>137301125</th>\n",
       "      <td>CC(=O)OC1C(C)CC=COC2(C)Oc3c(C)c(O)c4c(=O)c(c5o...</td>\n",
       "    </tr>\n",
       "    <tr>\n",
       "      <th>20617132</th>\n",
       "      <td>Cc1ccc2nc3ccc(=O)c([As]4SCCS4)c-3oc2c1[As]1SCCS1</td>\n",
       "    </tr>\n",
       "    <tr>\n",
       "      <th>58671569</th>\n",
       "      <td>Cc1nc(NCCCc2ccccc2)nc(C)c1O</td>\n",
       "    </tr>\n",
       "  </tbody>\n",
       "</table>\n",
       "<p>33000000 rows × 1 columns</p>\n",
       "</div>"
      ],
      "text/plain": [
       "                                                      SMILES\n",
       "23097826   Cc1cc2nn(-c3cccc4ccccc34)nc2cc1NC(=S)NC(=O)c1c...\n",
       "143474201                                    O=CN1CCCC1C(F)F\n",
       "127928730  Cc1nc(C2CCCN(C(=O)NC3CCC(N4CCC(C)CC4)CC3)C2)n[...\n",
       "60059763                    CC(=O)OCC(C)c1ccccc1[N+](=O)[O-]\n",
       "26865753   Cc1ccc(S(=O)(=O)N2CCN(C(=O)c3ccc(N(C)C)c([N+](...\n",
       "...                                                      ...\n",
       "55493150     CC(C)NC(=O)Nc1ccccc1C(=O)OCC(=O)Nc1ccccc1SC(F)F\n",
       "121974228          O=C(O)C1CCOC1C1CCN(C(=O)c2coc3ccccc23)CC1\n",
       "137301125  CC(=O)OC1C(C)CC=COC2(C)Oc3c(C)c(O)c4c(=O)c(c5o...\n",
       "20617132    Cc1ccc2nc3ccc(=O)c([As]4SCCS4)c-3oc2c1[As]1SCCS1\n",
       "58671569                         Cc1nc(NCCCc2ccccc2)nc(C)c1O\n",
       "\n",
       "[33000000 rows x 1 columns]"
      ]
     },
     "execution_count": 17,
     "metadata": {},
     "output_type": "execute_result"
    }
   ],
   "source": [
    "df_canonized_smiles_33M = df_canonized_smiles.sample(n=33000000, random_state=random_seed) # add 3M more just in case of getting None by Descriptors\n",
    "df_canonized_smiles_33M"
   ]
  },
  {
   "cell_type": "markdown",
   "id": "257f2098-ccf9-4866-8d05-aad57e9f1505",
   "metadata": {},
   "source": [
    "# Save for each 1M"
   ]
  },
  {
   "cell_type": "code",
   "execution_count": 2,
   "id": "c12f3063-166e-4417-955e-216e8af97b6e",
   "metadata": {},
   "outputs": [
    {
     "data": {
      "text/plain": [
       "'/scratch/ylee/ChemLlama/dataset_mtr'"
      ]
     },
     "execution_count": 2,
     "metadata": {},
     "output_type": "execute_result"
    }
   ],
   "source": [
    "import subprocess\n",
    "\n",
    "# Run the pwd command and capture its output\n",
    "pwd_py = subprocess.run(['pwd'], stdout=subprocess.PIPE)\n",
    "\n",
    "# Decode the output and store it in a variable\n",
    "cur_dir = pwd_py.stdout.decode('utf-8').strip()\n",
    "cur_dir"
   ]
  },
  {
   "cell_type": "code",
   "execution_count": 3,
   "id": "489b0837-f88a-425a-97a5-7eca9643304d",
   "metadata": {},
   "outputs": [
    {
     "data": {
      "text/plain": [
       "<module 'utils' from '/scratch/ylee/ChemLlama/dataset_mtr/utils.py'>"
      ]
     },
     "execution_count": 3,
     "metadata": {},
     "output_type": "execute_result"
    }
   ],
   "source": [
    "import sys\n",
    "import importlib\n",
    "sys.path.append(cur_dir)\n",
    "\n",
    "import utils\n",
    "importlib.reload(utils)"
   ]
  },
  {
   "cell_type": "markdown",
   "id": "5e29c043-7ce1-4322-8106-faf4047b8787",
   "metadata": {},
   "source": [
    "# Save SMILES 33M with HPC\n",
    "- It will create `canonical_smiles_xxx.csv` series at ./dataset_mtr/dataset\n",
    "- Current `num_process` is not the most optimal set since 33 % 6 = 3. You can control `num_process` according to your RAM and your Process. You can still change `num_row_per_chunk` but is not recommended. "
   ]
  },
  {
   "cell_type": "code",
   "execution_count": 58,
   "id": "8e2cb64c-6c82-4654-b87d-ed07877c805a",
   "metadata": {},
   "outputs": [],
   "source": [
    "# Hyper parameters\n",
    "num_row_per_chunk = 1000000 # 1M\n",
    "num_process = 6 \n",
    "dir_to_save = f\"{cur_dir}/dataset\"\n",
    "name_to_save = f\"canonical_smiles\"\n",
    "overwrite=False"
   ]
  },
  {
   "cell_type": "code",
   "execution_count": 59,
   "id": "12190985-446f-44ba-8b77-bdfccc3db02e",
   "metadata": {},
   "outputs": [
    {
     "data": {
      "text/plain": [
       "'/scratch/ylee/ChemLlama/dataset_mtr'"
      ]
     },
     "execution_count": 59,
     "metadata": {},
     "output_type": "execute_result"
    }
   ],
   "source": [
    "cur_dir"
   ]
  },
  {
   "cell_type": "code",
   "execution_count": 60,
   "id": "35b0515d-680f-4aeb-82a9-94964e95d461",
   "metadata": {},
   "outputs": [
    {
     "name": "stdout",
     "output_type": "stream",
     "text": [
      "HPC done\n"
     ]
    }
   ],
   "source": [
    "# # Uncomment the below if you want to create your own files.\n",
    "# utils.fn_save_df_HPC(target_num_row_per_chunk=num_row_per_chunk,\n",
    "#                      target_num_process=num_process,\n",
    "#                      target_df_base=df_canonized_smiles_33M,\n",
    "#                      target_dir_to_save=dir_to_save,\n",
    "#                      target_name_to_save=name_to_save,\n",
    "#                      overwrite=overwrite)"
   ]
  },
  {
   "cell_type": "code",
   "execution_count": 54,
   "id": "467e1025-c1f9-469b-be71-ea4f709daf92",
   "metadata": {},
   "outputs": [],
   "source": [
    "list_df_for_HPC, list_indices_for_HPC = utils.fn_create_sub_df_for_HPC(target_num_row_per_chunk=num_row_per_chunk,\n",
    "                                                                       target_df_base=df_canonized_smiles_33M)"
   ]
  },
  {
   "cell_type": "code",
   "execution_count": null,
   "id": "ccc31b40-cdb1-493b-b0f2-70bf1534d11e",
   "metadata": {},
   "outputs": [],
   "source": []
  },
  {
   "cell_type": "code",
   "execution_count": null,
   "id": "6c8f7441-140a-409e-adf0-24681aa7087d",
   "metadata": {},
   "outputs": [],
   "source": []
  },
  {
   "cell_type": "code",
   "execution_count": null,
   "id": "2a60f607-ad48-45b8-8847-666bfa6cf84e",
   "metadata": {},
   "outputs": [],
   "source": []
  }
 ],
 "metadata": {
  "kernelspec": {
   "display_name": "chemllm",
   "language": "python",
   "name": "chemllm"
  },
  "language_info": {
   "codemirror_mode": {
    "name": "ipython",
    "version": 3
   },
   "file_extension": ".py",
   "mimetype": "text/x-python",
   "name": "python",
   "nbconvert_exporter": "python",
   "pygments_lexer": "ipython3",
   "version": "3.11.3"
  }
 },
 "nbformat": 4,
 "nbformat_minor": 5
}
